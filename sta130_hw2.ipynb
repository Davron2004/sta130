{
 "cells": [
  {
   "cell_type": "markdown",
   "id": "8fafa799",
   "metadata": {},
   "source": [
    "# Question 1\n",
    "\n",
    "https://chatgpt.com/share/66f2002c-9738-800d-bb94-96d8f2d92013"
   ]
  },
  {
   "cell_type": "code",
   "execution_count": 1,
   "id": "91a15684",
   "metadata": {},
   "outputs": [
    {
     "data": {
      "text/plain": [
       "0.66679"
      ]
     },
     "execution_count": 1,
     "metadata": {},
     "output_type": "execute_result"
    }
   ],
   "source": [
    "# Monte Hall Simulation Code -- not the only way to code this, but it's what Prof. Schwartz came up with...\n",
    "\n",
    "import numpy as np\n",
    "all_door_options = (1,2,3)  # tuple\n",
    "my_door_choice = 1  # 1,2,3\n",
    "i_won = 0\n",
    "reps = 100000\n",
    "for i in range(reps):\n",
    "    secret_winning_door = np.random.choice(all_door_options)\n",
    "    all_door_options_list = list(all_door_options)\n",
    "    # take the secret_winning_door, so we don't show it as a \"goat\" losing door\n",
    "    all_door_options_list.remove(secret_winning_door)\n",
    "    try:\n",
    "        # if my_door_choice was secret_winning_door then it's already removed\n",
    "        all_door_options_list.remove(my_door_choice)\n",
    "    except:\n",
    "        pass\n",
    "    # show a \"goat\" losing door and remove it\n",
    "    goat_door_reveal = np.random.choice(all_door_options_list)\n",
    "    all_door_options_list.remove(goat_door_reveal)\n",
    "\n",
    "    # put the secret_winning_door back in if it wasn't our choice\n",
    "    # we previously removed it, so it would be shown as a  \"goat\" losing door\n",
    "    if secret_winning_door != my_door_choice:\n",
    "        all_door_options_list.append(secret_winning_door)\n",
    "    # if secret_winning_door was our choice then all that's left in the list is a \"goat\" losing door\n",
    "    # if secret_winning_door wasn't our choice then it's all that will be left in the list\n",
    "\n",
    "    # swap strategy\n",
    "    my_door_choice = all_door_options_list[0]\n",
    "\n",
    "    if my_door_choice == secret_winning_door:\n",
    "        i_won += 1\n",
    "\n",
    "i_won/reps"
   ]
  },
  {
   "cell_type": "markdown",
   "id": "33fab911",
   "metadata": {},
   "source": [
    "# Question 2\n",
    "At this point ChatGPT presented me two different answers and asked me to pick which one is better. I don't know if the final chat report will include this, so I'll paste both of its answers below"
   ]
  },
  {
   "cell_type": "markdown",
   "id": "ae9fe837",
   "metadata": {},
   "source": [
    "### Answer 1\n",
    "Here’s a more streamlined version of the Monte Hall simulation. It simplifies some of the logic and removes unnecessary steps, making it easier to explain and understand:"
   ]
  },
  {
   "cell_type": "code",
   "execution_count": 2,
   "id": "ead31393",
   "metadata": {},
   "outputs": [
    {
     "data": {
      "text/plain": [
       "0.66547"
      ]
     },
     "execution_count": 2,
     "metadata": {},
     "output_type": "execute_result"
    }
   ],
   "source": [
    "import numpy as np\n",
    "\n",
    "# Monte Hall Simulation - Streamlined Version\n",
    "all_door_options = (1, 2, 3)  # tuple of door numbers\n",
    "initial_choice = 1  # contestant always initially picks door 1\n",
    "i_won = 0  # counter for wins\n",
    "reps = 100000  # number of repetitions\n",
    "\n",
    "for _ in range(reps):\n",
    "    # Step 1: Randomly select the winning door\n",
    "    winning_door = np.random.choice(all_door_options)\n",
    "    \n",
    "    # Step 2: If the initial choice is not the winning door, the remaining door will be the winning one after the host reveals a goat\n",
    "    if initial_choice != winning_door:\n",
    "        i_won += 1  # by switching, the player wins if the initial choice wasn't the winning door\n",
    "\n",
    "# Calculate win ratio (win by switching strategy)\n",
    "win_ratio = i_won / reps\n",
    "win_ratio\n"
   ]
  },
  {
   "cell_type": "markdown",
   "id": "2797617c",
   "metadata": {},
   "source": [
    "Explanation:\n",
    "\n",
    "1. Variables:\n",
    "\n",
    "- all_door_options = (1, 2, 3) sets the possible door choices.\n",
    "- initial_choice = 1 is the contestant’s fixed initial choice.\n",
    "- i_won = 0 tracks the number of times the contestant wins by switching.\n",
    "- reps = 100000 defines the number of simulation runs.\n",
    "\n",
    "2. For loop:\n",
    "\n",
    "- The loop runs reps times.\n",
    "- In each iteration:\n",
    "    - A random door is selected as the winning door (winning_door = np.random.choice(all_door_options)).\n",
    "    - If the contestant’s initial choice (initial_choice = 1) is not the winning door, then switching wins, and the counter i_won is incremented.\n",
    "\n",
    "3. Win condition:\n",
    "\n",
    "- If the contestant’s initial choice is wrong, switching wins (because there are only two remaining doors, and one of them has to be the prize door).\n",
    "- The contestant only loses if their initial choice was correct.\n",
    "\n",
    "4. Result:\n",
    "\n",
    "- After the loop, win_ratio = i_won / reps gives the fraction of times the contestant wins by switching doors, which should be approximately 2/3, reflecting the well-known result of the Monty Hall problem.\n",
    "\n",
    "\n",
    "This version keeps the essential logic but reduces complexity by focusing directly on the switching outcome, which simplifies the explanation and avoids unnecessary list manipulations."
   ]
  },
  {
   "cell_type": "markdown",
   "id": "d6ee5e5b",
   "metadata": {},
   "source": [
    "### Answer 2\n",
    "Here’s a streamlined version of the Monty Hall simulation, which simplifies the process and improves readability. The key changes are:\n",
    "\n",
    "- Eliminate unnecessary steps like converting tuples to lists and removing doors manually.\n",
    "- Clearly separate the logic of picking a door, revealing a goat, and switching doors.\n",
    "- Use clearer comments and variables to explain the code flow more naturally."
   ]
  },
  {
   "cell_type": "code",
   "execution_count": 3,
   "id": "e8919b77",
   "metadata": {},
   "outputs": [
    {
     "data": {
      "text/plain": [
       "0.66696"
      ]
     },
     "execution_count": 3,
     "metadata": {},
     "output_type": "execute_result"
    }
   ],
   "source": [
    "import numpy as np\n",
    "\n",
    "# Simulation parameters\n",
    "# The amount of times the simulation will run\n",
    "reps = 100000\n",
    "# Accumulated amount of wins (0 wins in the beginning)\n",
    "wins = 0\n",
    "\n",
    "# Simulate Monty Hall problem with a strategy of always switching doors\n",
    "for _ in range(reps):\n",
    "    # Step 1: Randomly pick the winning door and the player's initial choice\n",
    "    winning_door = np.random.choice([1, 2, 3])\n",
    "    player_choice = np.random.choice([1, 2, 3])\n",
    "\n",
    "    # Step 2: The host reveals a goat door (not the player's choice or the winning door)\n",
    "    remaining_doors = [door for door in [1, 2, 3] if door != player_choice and door != winning_door]\n",
    "    host_reveal = np.random.choice(remaining_doors)\n",
    "\n",
    "    # Step 3: Player switches to the remaining unopened door\n",
    "    switched_choice = [door for door in [1, 2, 3] if door != player_choice and door != host_reveal][0]\n",
    "\n",
    "    # Step 4: Check if the switched choice is the winning door\n",
    "    if switched_choice == winning_door:\n",
    "        wins += 1\n",
    "\n",
    "# Calculate the probability of winning by switching\n",
    "win_rate = wins / reps\n",
    "win_rate\n"
   ]
  },
  {
   "cell_type": "markdown",
   "id": "1acc0ac4",
   "metadata": {},
   "source": [
    "Explanation:\n",
    "1. Set up parameters:\n",
    "\n",
    "- reps = 100000 defines the number of simulations (100,000).\n",
    "- wins = 0 is a counter for how many times the player wins.\n",
    "2. Loop:\n",
    "\n",
    "- For each iteration:\n",
    "    - Randomly assign a winning door (winning_door) and a door that the player initially picks (player_choice).\n",
    "    - The host reveals a \"goat\" door that is neither the player’s choice nor the winning door. This is done using a list comprehension (remaining_doors), which filters out the chosen and winning doors.\n",
    "    - The player switches to the other unopened door (switched_choice), determined by filtering out the player's original choice and the host’s revealed door.\n",
    "3. Winning condition:\n",
    "\n",
    "- If the player's switched choice matches the winning door, the wins counter is incremented.\n",
    "4. Result:\n",
    "\n",
    "- After the loop, the winning rate (win_rate) is calculated by dividing the number of wins by the total number of repetitions.\n",
    "\n",
    "Why this is simpler:\n",
    "- The code avoids manually removing elements from lists and handles door choices in a straightforward manner using list comprehensions.\n",
    "- The logic of switching and revealing doors is more clearly expressed, making it easier to explain the process step by step."
   ]
  },
  {
   "cell_type": "markdown",
   "id": "4becd298",
   "metadata": {},
   "source": [
    "# Question 3\n",
    "I feel that answer #2 suits better because it preserves the mechanics of Monte Hall problem.\n",
    "Answer #1 oversimplified the code so much that it didn't even feel like the Monte Hall problem anymore"
   ]
  },
  {
   "cell_type": "markdown",
   "id": "51133096",
   "metadata": {},
   "source": [
    "# Questions 4 and 5\n",
    "\n",
    "https://chatgpt.com/share/66f1ff59-8404-800d-8cfb-405cf9172052\n",
    "\n",
    "5.3 https://chatgpt.com/share/66f1ff74-bac0-800d-9061-3687038ef4c7"
   ]
  },
  {
   "cell_type": "markdown",
   "id": "113fe8ee",
   "metadata": {},
   "source": [
    "# Question 6\n",
    "\n",
    "6.1 ChatGPT did surprisingly well, it explained all the code snippets in understandable details without the need of 'correcting' it\n",
    "\n",
    "6.2 Interacting with the bot for code explanation was not frustrating at all, the bot is really good at explaining code\n",
    "\n",
    "6.3 I would rate troubleshooting code with ChatGPT/Copilot a 9/10. It is very good, it does a great job at finding silly mistakes and typos, but very rarely it can get stuck on a loop of incorrect solutions. It would give you solution A, and if it wouldn't work, it would give you solution B, and if you said it doesn't work either, it would give you solution A again. But that's from my personal experience outside the scope of this course."
   ]
  },
  {
   "cell_type": "markdown",
   "id": "0d4fea66",
   "metadata": {},
   "source": [
    "# Question 7\n",
    "\n",
    "I started trusting the use of Chatbots for understanding code became even more since joining STA130, because I had to use the newest GPT-4o and it feels even better than GPT-3.5 that I've been using before. Code explanations are more detailed and the Chatbot understands problems at a way faster pace before in a sense that it doesn't need much user guidance to get the answer right. Chatbots are also really useful for recalling material that you might have forgotten (like the formula for the Standard Deviation) or giving practical examples for further understanding of a topic, but I would rely on it too much because learning by textbooks is still better than learning by Chatbot inquiry."
   ]
  }
 ],
 "metadata": {
  "kernelspec": {
   "display_name": "Python 3 (ipykernel)",
   "language": "python",
   "name": "python3"
  },
  "language_info": {
   "codemirror_mode": {
    "name": "ipython",
    "version": 3
   },
   "file_extension": ".py",
   "mimetype": "text/x-python",
   "name": "python",
   "nbconvert_exporter": "python",
   "pygments_lexer": "ipython3",
   "version": "3.11.6"
  }
 },
 "nbformat": 4,
 "nbformat_minor": 5
}
